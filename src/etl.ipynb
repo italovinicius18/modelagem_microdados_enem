{
 "cells": [
  {
   "cell_type": "markdown",
   "metadata": {},
   "source": [
    "# Importação de bibliotecas"
   ]
  },
  {
   "cell_type": "code",
   "execution_count": 3,
   "metadata": {},
   "outputs": [],
   "source": [
    "import psycopg2\n",
    "import polars as pl"
   ]
  },
  {
   "cell_type": "markdown",
   "metadata": {},
   "source": [
    "# Leitura de dados"
   ]
  },
  {
   "cell_type": "code",
   "execution_count": 21,
   "metadata": {},
   "outputs": [],
   "source": [
    "ITENS_PROVA_SCHEMA = {\n",
    "    # -- Colunas Numéricas --\n",
    "    \"CO_POSICAO\": pl.Int32,  # Tamanho 3 (mas podemos guardar em Int32)\n",
    "    \"CO_ITEM\": pl.Int32,  # Tamanho 5\n",
    "    \"CO_HABILIDADE\": pl.Int32,  # Tamanho 2\n",
    "    \"IN_ITEM_ABAN\": pl.Int8,  # Tamanho 1 (0 ou 1)\n",
    "    \"NU_PARAM_A\": pl.Float64,  # Tamanho 9 (pode ser decimal, então Float64)\n",
    "    \"NU_PARAM_B\": pl.Float64,  # idem\n",
    "    \"NU_PARAM_C\": pl.Float64,  # idem\n",
    "    \"CO_PROVA\": pl.Int32,  # Tamanho 3\n",
    "    \"TP_LINGUA\": pl.Int8,  # Tamanho 1 (0 ou 1)\n",
    "    \"IN_ITEM_ADAPTADO\": pl.Int8,  # Tamanho 1 (0 ou 1)\n",
    "    # -- Colunas Alfanuméricas --\n",
    "    \"SG_AREA\": pl.Utf8,  # 2 caracteres (ex.: CH, CN, LC, MT)\n",
    "    \"TX_GABARITO\": pl.Utf8,  # 1 caractere\n",
    "    \"TX_MOTIVO_ABAN\": pl.Utf8,  # até 40 caracteres\n",
    "    \"TX_COR\": pl.Utf8,  # até 7 caracteres (ex.: \"AMARELA\")\n",
    "}\n",
    "\n",
    "MICRODADOS_ENEM_SCHEMA = {\n",
    "    # --- Numéricas (geralmente inteiros) ---\n",
    "    \"NU_INSCRICAO\": pl.Int64,\n",
    "    \"NU_ANO\": pl.Int16,\n",
    "    \"TP_FAIXA_ETARIA\": pl.Int16,\n",
    "    \"TP_ESTADO_CIVIL\": pl.Int8,\n",
    "    \"TP_COR_RACA\": pl.Int8,\n",
    "    \"TP_NACIONALIDADE\": pl.Int8,\n",
    "    \"TP_ST_CONCLUSAO\": pl.Int8,\n",
    "    \"TP_ANO_CONCLUIU\": pl.Int16,\n",
    "    \"TP_ESCOLA\": pl.Int8,\n",
    "    \"TP_ENSINO\": pl.Int8,\n",
    "    \"IN_TREINEIRO\": pl.Int8,\n",
    "    \"CO_MUNICIPIO_ESC\": pl.Int32,\n",
    "    \"CO_UF_ESC\": pl.Int16,\n",
    "    \"TP_DEPENDENCIA_ADM_ESC\": pl.Int8,\n",
    "    \"TP_LOCALIZACAO_ESC\": pl.Int8,\n",
    "    \"TP_SIT_FUNC_ESC\": pl.Int8,\n",
    "    \"CO_MUNICIPIO_PROVA\": pl.Int32,\n",
    "    # CO_UF_PROVA consta como Alfanumérica abaixo,\n",
    "    # mas se for numérica, você pode usar pl.Int16 ou pl.Int8\n",
    "    \"TP_PRESENCA_CN\": pl.Int8,\n",
    "    \"TP_PRESENCA_CH\": pl.Int8,\n",
    "    \"TP_PRESENCA_LC\": pl.Int8,\n",
    "    \"TP_PRESENCA_MT\": pl.Int8,\n",
    "    \"CO_PROVA_CN\": pl.Int32,\n",
    "    \"CO_PROVA_CH\": pl.Int32,\n",
    "    \"CO_PROVA_LC\": pl.Int32,\n",
    "    \"CO_PROVA_MT\": pl.Int32,\n",
    "    \"TP_LINGUA\": pl.Int8,\n",
    "    \"TP_STATUS_REDACAO\": pl.Int8,\n",
    "    # Notas (geralmente decimais)\n",
    "    \"NU_NOTA_CN\": pl.Float64,\n",
    "    \"NU_NOTA_CH\": pl.Float64,\n",
    "    \"NU_NOTA_LC\": pl.Float64,\n",
    "    \"NU_NOTA_MT\": pl.Float64,\n",
    "    \"NU_NOTA_COMP1\": pl.Float64,\n",
    "    \"NU_NOTA_COMP2\": pl.Float64,\n",
    "    \"NU_NOTA_COMP3\": pl.Float64,\n",
    "    \"NU_NOTA_COMP4\": pl.Float64,\n",
    "    \"NU_NOTA_COMP5\": pl.Float64,\n",
    "    \"NU_NOTA_REDACAO\": pl.Float64,\n",
    "    # --- Alfanuméricas ---\n",
    "    \"TP_SEXO\": pl.Utf8,\n",
    "    \"NO_MUNICIPIO_ESC\": pl.Utf8,\n",
    "    \"SG_UF_ESC\": pl.Utf8,\n",
    "    \"NO_MUNICIPIO_PROVA\": pl.Utf8,\n",
    "    \"CO_UF_PROVA\": pl.Utf8,  # segundo o dicionário está Alfanumérica\n",
    "    \"SG_UF_PROVA\": pl.Utf8,\n",
    "    \"TX_RESPOSTAS_CN\": pl.Utf8,\n",
    "    \"TX_RESPOSTAS_CH\": pl.Utf8,\n",
    "    \"TX_RESPOSTAS_LC\": pl.Utf8,\n",
    "    \"TX_RESPOSTAS_MT\": pl.Utf8,\n",
    "    \"TX_GABARITO_CN\": pl.Utf8,\n",
    "    \"TX_GABARITO_CH\": pl.Utf8,\n",
    "    \"TX_GABARITO_LC\": pl.Utf8,\n",
    "    \"TX_GABARITO_MT\": pl.Utf8,\n",
    "    # Questionário socioeconômico\n",
    "    \"Q001\": pl.Utf8,\n",
    "    \"Q002\": pl.Utf8,\n",
    "    \"Q003\": pl.Utf8,\n",
    "    \"Q004\": pl.Int8,\n",
    "    \"Q005\": pl.Int8,\n",
    "    \"Q006\": pl.Utf8,\n",
    "    \"Q007\": pl.Utf8,\n",
    "    \"Q008\": pl.Utf8,\n",
    "    \"Q009\": pl.Utf8,\n",
    "    \"Q010\": pl.Utf8,\n",
    "    \"Q011\": pl.Utf8,\n",
    "    \"Q012\": pl.Utf8,\n",
    "    \"Q013\": pl.Utf8,\n",
    "    \"Q014\": pl.Utf8,\n",
    "    \"Q015\": pl.Utf8,\n",
    "    \"Q016\": pl.Utf8,\n",
    "    \"Q017\": pl.Utf8,\n",
    "    \"Q018\": pl.Utf8,\n",
    "    \"Q019\": pl.Utf8,\n",
    "    \"Q020\": pl.Utf8,\n",
    "    \"Q021\": pl.Utf8,\n",
    "    \"Q022\": pl.Utf8,\n",
    "    \"Q023\": pl.Utf8,\n",
    "    \"Q024\": pl.Utf8,\n",
    "    \"Q025\": pl.Utf8,\n",
    "}"
   ]
  },
  {
   "cell_type": "code",
   "execution_count": 22,
   "metadata": {},
   "outputs": [],
   "source": [
    "itens_prova = pl.read_csv(\n",
    "    \"data/DADOS/ITENS_PROVA_2023.csv\",\n",
    "    has_header=True,\n",
    "    separator=\";\",\n",
    "    null_values=[\"\"],\n",
    "    ignore_errors=True,\n",
    "    schema_overrides=ITENS_PROVA_SCHEMA\n",
    ")\n",
    "\n",
    "micro_enem = pl.read_csv(\n",
    "    'data/DADOS/MICRODADOS_ENEM_2023.csv',\n",
    "    has_header=True,\n",
    "    separator=\";\",\n",
    "    null_values=[\"\"],\n",
    "    ignore_errors=True,\n",
    "    schema_overrides=MICRODADOS_ENEM_SCHEMA\n",
    ")"
   ]
  },
  {
   "cell_type": "markdown",
   "metadata": {},
   "source": [
    "## Espiadas nos dados"
   ]
  },
  {
   "cell_type": "markdown",
   "metadata": {},
   "source": [
    "### Itens de prova"
   ]
  },
  {
   "cell_type": "code",
   "execution_count": 23,
   "metadata": {},
   "outputs": [
    {
     "data": {
      "text/html": [
       "<div><style>\n",
       ".dataframe > thead > tr,\n",
       ".dataframe > tbody > tr {\n",
       "  text-align: right;\n",
       "  white-space: pre-wrap;\n",
       "}\n",
       "</style>\n",
       "<small>shape: (5, 14)</small><table border=\"1\" class=\"dataframe\"><thead><tr><th>CO_POSICAO</th><th>SG_AREA</th><th>CO_ITEM</th><th>TX_GABARITO</th><th>CO_HABILIDADE</th><th>IN_ITEM_ABAN</th><th>TX_MOTIVO_ABAN</th><th>NU_PARAM_A</th><th>NU_PARAM_B</th><th>NU_PARAM_C</th><th>TX_COR</th><th>CO_PROVA</th><th>TP_LINGUA</th><th>IN_ITEM_ADAPTADO</th></tr><tr><td>i32</td><td>str</td><td>i32</td><td>str</td><td>i32</td><td>i8</td><td>str</td><td>f64</td><td>f64</td><td>f64</td><td>str</td><td>i32</td><td>i8</td><td>i8</td></tr></thead><tbody><tr><td>21</td><td>&quot;LC&quot;</td><td>141283</td><td>&quot;B&quot;</td><td>14</td><td>0</td><td>null</td><td>2.20125</td><td>0.82582</td><td>0.2119</td><td>&quot;AMARELA&quot;</td><td>1286</td><td>null</td><td>0</td></tr><tr><td>20</td><td>&quot;LC&quot;</td><td>118144</td><td>&quot;C&quot;</td><td>23</td><td>0</td><td>null</td><td>2.43295</td><td>0.90091</td><td>0.13239</td><td>&quot;AMARELA&quot;</td><td>1286</td><td>null</td><td>0</td></tr><tr><td>11</td><td>&quot;LC&quot;</td><td>140926</td><td>&quot;D&quot;</td><td>26</td><td>0</td><td>null</td><td>1.95105</td><td>-0.13372</td><td>0.19557</td><td>&quot;AMARELA&quot;</td><td>1282</td><td>null</td><td>0</td></tr><tr><td>12</td><td>&quot;LC&quot;</td><td>36864</td><td>&quot;A&quot;</td><td>12</td><td>0</td><td>null</td><td>1.14733</td><td>0.38901</td><td>0.23027</td><td>&quot;ROSA&quot;</td><td>1243</td><td>null</td><td>0</td></tr><tr><td>5</td><td>&quot;LC&quot;</td><td>140614</td><td>&quot;C&quot;</td><td>8</td><td>0</td><td>null</td><td>2.25894</td><td>1.00728</td><td>0.17726</td><td>&quot;AMARELA&quot;</td><td>1286</td><td>0</td><td>0</td></tr></tbody></table></div>"
      ],
      "text/plain": [
       "shape: (5, 14)\n",
       "┌────────────┬─────────┬─────────┬─────────────┬───┬─────────┬──────────┬───────────┬──────────────┐\n",
       "│ CO_POSICAO ┆ SG_AREA ┆ CO_ITEM ┆ TX_GABARITO ┆ … ┆ TX_COR  ┆ CO_PROVA ┆ TP_LINGUA ┆ IN_ITEM_ADAP │\n",
       "│ ---        ┆ ---     ┆ ---     ┆ ---         ┆   ┆ ---     ┆ ---      ┆ ---       ┆ TADO         │\n",
       "│ i32        ┆ str     ┆ i32     ┆ str         ┆   ┆ str     ┆ i32      ┆ i8        ┆ ---          │\n",
       "│            ┆         ┆         ┆             ┆   ┆         ┆          ┆           ┆ i8           │\n",
       "╞════════════╪═════════╪═════════╪═════════════╪═══╪═════════╪══════════╪═══════════╪══════════════╡\n",
       "│ 21         ┆ LC      ┆ 141283  ┆ B           ┆ … ┆ AMARELA ┆ 1286     ┆ null      ┆ 0            │\n",
       "│ 20         ┆ LC      ┆ 118144  ┆ C           ┆ … ┆ AMARELA ┆ 1286     ┆ null      ┆ 0            │\n",
       "│ 11         ┆ LC      ┆ 140926  ┆ D           ┆ … ┆ AMARELA ┆ 1282     ┆ null      ┆ 0            │\n",
       "│ 12         ┆ LC      ┆ 36864   ┆ A           ┆ … ┆ ROSA    ┆ 1243     ┆ null      ┆ 0            │\n",
       "│ 5          ┆ LC      ┆ 140614  ┆ C           ┆ … ┆ AMARELA ┆ 1286     ┆ 0         ┆ 0            │\n",
       "└────────────┴─────────┴─────────┴─────────────┴───┴─────────┴──────────┴───────────┴──────────────┘"
      ]
     },
     "execution_count": 23,
     "metadata": {},
     "output_type": "execute_result"
    }
   ],
   "source": [
    "itens_prova.head()"
   ]
  },
  {
   "cell_type": "code",
   "execution_count": 24,
   "metadata": {},
   "outputs": [
    {
     "data": {
      "text/html": [
       "<div><style>\n",
       ".dataframe > thead > tr,\n",
       ".dataframe > tbody > tr {\n",
       "  text-align: right;\n",
       "  white-space: pre-wrap;\n",
       "}\n",
       "</style>\n",
       "<small>shape: (9, 15)</small><table border=\"1\" class=\"dataframe\"><thead><tr><th>statistic</th><th>CO_POSICAO</th><th>SG_AREA</th><th>CO_ITEM</th><th>TX_GABARITO</th><th>CO_HABILIDADE</th><th>IN_ITEM_ABAN</th><th>TX_MOTIVO_ABAN</th><th>NU_PARAM_A</th><th>NU_PARAM_B</th><th>NU_PARAM_C</th><th>TX_COR</th><th>CO_PROVA</th><th>TP_LINGUA</th><th>IN_ITEM_ADAPTADO</th></tr><tr><td>str</td><td>f64</td><td>str</td><td>f64</td><td>str</td><td>f64</td><td>f64</td><td>str</td><td>f64</td><td>f64</td><td>f64</td><td>str</td><td>f64</td><td>f64</td><td>f64</td></tr></thead><tbody><tr><td>&quot;count&quot;</td><td>5550.0</td><td>&quot;5550&quot;</td><td>5550.0</td><td>&quot;5550&quot;</td><td>5550.0</td><td>5550.0</td><td>&quot;0&quot;</td><td>5526.0</td><td>5526.0</td><td>5526.0</td><td>&quot;5550&quot;</td><td>5550.0</td><td>300.0</td><td>5550.0</td></tr><tr><td>&quot;null_count&quot;</td><td>0.0</td><td>&quot;0&quot;</td><td>0.0</td><td>&quot;0&quot;</td><td>0.0</td><td>0.0</td><td>&quot;5550&quot;</td><td>24.0</td><td>24.0</td><td>24.0</td><td>&quot;0&quot;</td><td>0.0</td><td>5250.0</td><td>0.0</td></tr><tr><td>&quot;mean&quot;</td><td>88.135135</td><td>null</td><td>102106.838378</td><td>null</td><td>14.978378</td><td>0.004324</td><td>null</td><td>2.199091</td><td>1.096806</td><td>0.180877</td><td>null</td><td>1253.072072</td><td>0.5</td><td>0.1</td></tr><tr><td>&quot;std&quot;</td><td>53.186867</td><td>null</td><td>45758.967585</td><td>null</td><td>8.666</td><td>0.065623</td><td>null</td><td>0.765569</td><td>0.889084</td><td>0.061941</td><td>null</td><td>37.320439</td><td>0.500835</td><td>0.300027</td></tr><tr><td>&quot;min&quot;</td><td>1.0</td><td>&quot;CH&quot;</td><td>6954.0</td><td>&quot;A&quot;</td><td>1.0</td><td>0.0</td><td>null</td><td>0.71667</td><td>-1.14947</td><td>0.00556</td><td>&quot;AMARELA&quot;</td><td>1191.0</td><td>0.0</td><td>0.0</td></tr><tr><td>&quot;25%&quot;</td><td>42.0</td><td>null</td><td>66330.0</td><td>null</td><td>8.0</td><td>0.0</td><td>null</td><td>1.63551</td><td>0.38977</td><td>0.14759</td><td>null</td><td>1220.0</td><td>0.0</td><td>0.0</td></tr><tr><td>&quot;50%&quot;</td><td>88.0</td><td>null</td><td>125687.0</td><td>null</td><td>15.0</td><td>0.0</td><td>null</td><td>2.11251</td><td>0.99995</td><td>0.185</td><td>null</td><td>1252.0</td><td>1.0</td><td>0.0</td></tr><tr><td>&quot;75%&quot;</td><td>134.0</td><td>null</td><td>140878.0</td><td>null</td><td>22.0</td><td>0.0</td><td>null</td><td>2.69465</td><td>1.75696</td><td>0.21091</td><td>null</td><td>1285.0</td><td>1.0</td><td>0.0</td></tr><tr><td>&quot;max&quot;</td><td>180.0</td><td>&quot;MT&quot;</td><td>141814.0</td><td>&quot;X&quot;</td><td>30.0</td><td>1.0</td><td>null</td><td>5.9367</td><td>3.22024</td><td>0.49995</td><td>&quot;VERDE&quot;</td><td>1318.0</td><td>1.0</td><td>1.0</td></tr></tbody></table></div>"
      ],
      "text/plain": [
       "shape: (9, 15)\n",
       "┌────────────┬────────────┬─────────┬────────────┬───┬─────────┬───────────┬───────────┬───────────┐\n",
       "│ statistic  ┆ CO_POSICAO ┆ SG_AREA ┆ CO_ITEM    ┆ … ┆ TX_COR  ┆ CO_PROVA  ┆ TP_LINGUA ┆ IN_ITEM_A │\n",
       "│ ---        ┆ ---        ┆ ---     ┆ ---        ┆   ┆ ---     ┆ ---       ┆ ---       ┆ DAPTADO   │\n",
       "│ str        ┆ f64        ┆ str     ┆ f64        ┆   ┆ str     ┆ f64       ┆ f64       ┆ ---       │\n",
       "│            ┆            ┆         ┆            ┆   ┆         ┆           ┆           ┆ f64       │\n",
       "╞════════════╪════════════╪═════════╪════════════╪═══╪═════════╪═══════════╪═══════════╪═══════════╡\n",
       "│ count      ┆ 5550.0     ┆ 5550    ┆ 5550.0     ┆ … ┆ 5550    ┆ 5550.0    ┆ 300.0     ┆ 5550.0    │\n",
       "│ null_count ┆ 0.0        ┆ 0       ┆ 0.0        ┆ … ┆ 0       ┆ 0.0       ┆ 5250.0    ┆ 0.0       │\n",
       "│ mean       ┆ 88.135135  ┆ null    ┆ 102106.838 ┆ … ┆ null    ┆ 1253.0720 ┆ 0.5       ┆ 0.1       │\n",
       "│            ┆            ┆         ┆ 378        ┆   ┆         ┆ 72        ┆           ┆           │\n",
       "│ std        ┆ 53.186867  ┆ null    ┆ 45758.9675 ┆ … ┆ null    ┆ 37.320439 ┆ 0.500835  ┆ 0.300027  │\n",
       "│            ┆            ┆         ┆ 85         ┆   ┆         ┆           ┆           ┆           │\n",
       "│ min        ┆ 1.0        ┆ CH      ┆ 6954.0     ┆ … ┆ AMARELA ┆ 1191.0    ┆ 0.0       ┆ 0.0       │\n",
       "│ 25%        ┆ 42.0       ┆ null    ┆ 66330.0    ┆ … ┆ null    ┆ 1220.0    ┆ 0.0       ┆ 0.0       │\n",
       "│ 50%        ┆ 88.0       ┆ null    ┆ 125687.0   ┆ … ┆ null    ┆ 1252.0    ┆ 1.0       ┆ 0.0       │\n",
       "│ 75%        ┆ 134.0      ┆ null    ┆ 140878.0   ┆ … ┆ null    ┆ 1285.0    ┆ 1.0       ┆ 0.0       │\n",
       "│ max        ┆ 180.0      ┆ MT      ┆ 141814.0   ┆ … ┆ VERDE   ┆ 1318.0    ┆ 1.0       ┆ 1.0       │\n",
       "└────────────┴────────────┴─────────┴────────────┴───┴─────────┴───────────┴───────────┴───────────┘"
      ]
     },
     "execution_count": 24,
     "metadata": {},
     "output_type": "execute_result"
    }
   ],
   "source": [
    "itens_prova.describe()"
   ]
  },
  {
   "cell_type": "code",
   "execution_count": 27,
   "metadata": {},
   "outputs": [
    {
     "data": {
      "text/plain": [
       "(5550, 14)"
      ]
     },
     "execution_count": 27,
     "metadata": {},
     "output_type": "execute_result"
    }
   ],
   "source": [
    "itens_prova.shape"
   ]
  },
  {
   "cell_type": "markdown",
   "metadata": {},
   "source": [
    "### Microdados Enem"
   ]
  },
  {
   "cell_type": "code",
   "execution_count": 28,
   "metadata": {},
   "outputs": [
    {
     "data": {
      "text/html": [
       "<div><style>\n",
       ".dataframe > thead > tr,\n",
       ".dataframe > tbody > tr {\n",
       "  text-align: right;\n",
       "  white-space: pre-wrap;\n",
       "}\n",
       "</style>\n",
       "<small>shape: (5, 76)</small><table border=\"1\" class=\"dataframe\"><thead><tr><th>NU_INSCRICAO</th><th>NU_ANO</th><th>TP_FAIXA_ETARIA</th><th>TP_SEXO</th><th>TP_ESTADO_CIVIL</th><th>TP_COR_RACA</th><th>TP_NACIONALIDADE</th><th>TP_ST_CONCLUSAO</th><th>TP_ANO_CONCLUIU</th><th>TP_ESCOLA</th><th>TP_ENSINO</th><th>IN_TREINEIRO</th><th>CO_MUNICIPIO_ESC</th><th>NO_MUNICIPIO_ESC</th><th>CO_UF_ESC</th><th>SG_UF_ESC</th><th>TP_DEPENDENCIA_ADM_ESC</th><th>TP_LOCALIZACAO_ESC</th><th>TP_SIT_FUNC_ESC</th><th>CO_MUNICIPIO_PROVA</th><th>NO_MUNICIPIO_PROVA</th><th>CO_UF_PROVA</th><th>SG_UF_PROVA</th><th>TP_PRESENCA_CN</th><th>TP_PRESENCA_CH</th><th>TP_PRESENCA_LC</th><th>TP_PRESENCA_MT</th><th>CO_PROVA_CN</th><th>CO_PROVA_CH</th><th>CO_PROVA_LC</th><th>CO_PROVA_MT</th><th>NU_NOTA_CN</th><th>NU_NOTA_CH</th><th>NU_NOTA_LC</th><th>NU_NOTA_MT</th><th>TX_RESPOSTAS_CN</th><th>TX_RESPOSTAS_CH</th><th>&hellip;</th><th>TP_LINGUA</th><th>TX_GABARITO_CN</th><th>TX_GABARITO_CH</th><th>TX_GABARITO_LC</th><th>TX_GABARITO_MT</th><th>TP_STATUS_REDACAO</th><th>NU_NOTA_COMP1</th><th>NU_NOTA_COMP2</th><th>NU_NOTA_COMP3</th><th>NU_NOTA_COMP4</th><th>NU_NOTA_COMP5</th><th>NU_NOTA_REDACAO</th><th>Q001</th><th>Q002</th><th>Q003</th><th>Q004</th><th>Q005</th><th>Q006</th><th>Q007</th><th>Q008</th><th>Q009</th><th>Q010</th><th>Q011</th><th>Q012</th><th>Q013</th><th>Q014</th><th>Q015</th><th>Q016</th><th>Q017</th><th>Q018</th><th>Q019</th><th>Q020</th><th>Q021</th><th>Q022</th><th>Q023</th><th>Q024</th><th>Q025</th></tr><tr><td>i64</td><td>i16</td><td>i16</td><td>str</td><td>i8</td><td>i8</td><td>i8</td><td>i8</td><td>i16</td><td>i8</td><td>i8</td><td>i8</td><td>i32</td><td>str</td><td>i16</td><td>str</td><td>i8</td><td>i8</td><td>i8</td><td>i32</td><td>str</td><td>str</td><td>str</td><td>i8</td><td>i8</td><td>i8</td><td>i8</td><td>i32</td><td>i32</td><td>i32</td><td>i32</td><td>f64</td><td>f64</td><td>f64</td><td>f64</td><td>str</td><td>str</td><td>&hellip;</td><td>i8</td><td>str</td><td>str</td><td>str</td><td>str</td><td>i8</td><td>f64</td><td>f64</td><td>f64</td><td>f64</td><td>f64</td><td>f64</td><td>str</td><td>str</td><td>str</td><td>i8</td><td>i8</td><td>str</td><td>str</td><td>str</td><td>str</td><td>str</td><td>str</td><td>str</td><td>str</td><td>str</td><td>str</td><td>str</td><td>str</td><td>str</td><td>str</td><td>str</td><td>str</td><td>str</td><td>str</td><td>str</td><td>str</td></tr></thead><tbody><tr><td>210059085136</td><td>2023</td><td>14</td><td>&quot;M&quot;</td><td>2</td><td>1</td><td>1</td><td>1</td><td>17</td><td>1</td><td>null</td><td>0</td><td>null</td><td>null</td><td>null</td><td>null</td><td>null</td><td>null</td><td>null</td><td>5300108</td><td>null</td><td>&quot;53&quot;</td><td>&quot;DF&quot;</td><td>0</td><td>0</td><td>0</td><td>0</td><td>null</td><td>null</td><td>null</td><td>null</td><td>null</td><td>null</td><td>null</td><td>null</td><td>null</td><td>null</td><td>&hellip;</td><td>0</td><td>null</td><td>null</td><td>null</td><td>null</td><td>null</td><td>null</td><td>null</td><td>null</td><td>null</td><td>null</td><td>null</td><td>&quot;A&quot;</td><td>&quot;F&quot;</td><td>&quot;E&quot;</td><td>null</td><td>5</td><td>&quot;F&quot;</td><td>&quot;C&quot;</td><td>&quot;C&quot;</td><td>&quot;D&quot;</td><td>&quot;C&quot;</td><td>&quot;D&quot;</td><td>&quot;C&quot;</td><td>&quot;B&quot;</td><td>&quot;B&quot;</td><td>&quot;D&quot;</td><td>&quot;C&quot;</td><td>&quot;C&quot;</td><td>&quot;B&quot;</td><td>&quot;B&quot;</td><td>&quot;A&quot;</td><td>&quot;B&quot;</td><td>&quot;B&quot;</td><td>&quot;A&quot;</td><td>&quot;A&quot;</td><td>&quot;B&quot;</td></tr><tr><td>210059527735</td><td>2023</td><td>12</td><td>&quot;M&quot;</td><td>2</td><td>1</td><td>0</td><td>1</td><td>16</td><td>1</td><td>null</td><td>0</td><td>null</td><td>null</td><td>null</td><td>null</td><td>null</td><td>null</td><td>null</td><td>5300108</td><td>null</td><td>&quot;53&quot;</td><td>&quot;DF&quot;</td><td>0</td><td>0</td><td>0</td><td>0</td><td>null</td><td>null</td><td>null</td><td>null</td><td>null</td><td>null</td><td>null</td><td>null</td><td>null</td><td>null</td><td>&hellip;</td><td>0</td><td>null</td><td>null</td><td>null</td><td>null</td><td>null</td><td>null</td><td>null</td><td>null</td><td>null</td><td>null</td><td>null</td><td>&quot;F&quot;</td><td>&quot;E&quot;</td><td>&quot;E&quot;</td><td>null</td><td>3</td><td>&quot;H&quot;</td><td>&quot;A&quot;</td><td>&quot;B&quot;</td><td>&quot;C&quot;</td><td>&quot;C&quot;</td><td>&quot;A&quot;</td><td>&quot;B&quot;</td><td>&quot;B&quot;</td><td>&quot;B&quot;</td><td>&quot;A&quot;</td><td>&quot;B&quot;</td><td>&quot;A&quot;</td><td>&quot;B&quot;</td><td>&quot;B&quot;</td><td>&quot;A&quot;</td><td>&quot;A&quot;</td><td>&quot;C&quot;</td><td>&quot;A&quot;</td><td>&quot;D&quot;</td><td>&quot;B&quot;</td></tr><tr><td>210061103945</td><td>2023</td><td>6</td><td>&quot;F&quot;</td><td>1</td><td>1</td><td>1</td><td>1</td><td>0</td><td>1</td><td>null</td><td>0</td><td>null</td><td>null</td><td>null</td><td>null</td><td>null</td><td>null</td><td>null</td><td>4305108</td><td>&quot;Caxias do Sul&quot;</td><td>&quot;43&quot;</td><td>&quot;RS&quot;</td><td>1</td><td>1</td><td>1</td><td>1</td><td>1221</td><td>1193</td><td>1204</td><td>1211</td><td>502.0</td><td>498.9</td><td>475.6</td><td>363.2</td><td>&quot;DBEBDCECCBCEBBBBDBABDDBBAABCBA…</td><td>&quot;ABDEADAADCDABDCADAEABCDDCBAADC…</td><td>&hellip;</td><td>1</td><td>&quot;DBEABDABDCACDBECDDDBCAAABBACCC…</td><td>&quot;ACEEABAADCDAADEABCDABCDCABCBDA…</td><td>&quot;DBABBAEBAAAACDACDEDAACADBADBCC…</td><td>&quot;BCCDEEABCBEDCEABBEBDABDDADDADE…</td><td>1</td><td>140.0</td><td>200.0</td><td>100.0</td><td>120.0</td><td>140.0</td><td>700.0</td><td>&quot;H&quot;</td><td>&quot;E&quot;</td><td>&quot;C&quot;</td><td>null</td><td>5</td><td>&quot;C&quot;</td><td>&quot;A&quot;</td><td>&quot;B&quot;</td><td>&quot;D&quot;</td><td>&quot;B&quot;</td><td>&quot;A&quot;</td><td>&quot;B&quot;</td><td>&quot;A&quot;</td><td>&quot;B&quot;</td><td>&quot;A&quot;</td><td>&quot;B&quot;</td><td>&quot;A&quot;</td><td>&quot;A&quot;</td><td>&quot;B&quot;</td><td>&quot;A&quot;</td><td>&quot;A&quot;</td><td>&quot;A&quot;</td><td>&quot;A&quot;</td><td>&quot;A&quot;</td><td>&quot;B&quot;</td></tr><tr><td>210060214087</td><td>2023</td><td>2</td><td>&quot;F&quot;</td><td>1</td><td>3</td><td>1</td><td>2</td><td>0</td><td>2</td><td>1</td><td>0</td><td>2304400</td><td>&quot;Fortaleza&quot;</td><td>23</td><td>&quot;CE&quot;</td><td>2</td><td>1</td><td>1</td><td>2304400</td><td>&quot;Fortaleza&quot;</td><td>&quot;23&quot;</td><td>&quot;CE&quot;</td><td>1</td><td>1</td><td>1</td><td>1</td><td>1224</td><td>1192</td><td>1202</td><td>1214</td><td>459.0</td><td>508.5</td><td>507.2</td><td>466.7</td><td>&quot;DEEBEACCCEBDDBDCCCAEEDCBAAADBC…</td><td>&quot;DDAAEEBCCDEADBCDDCBAECABEBDEBD…</td><td>&hellip;</td><td>0</td><td>&quot;CDDDABBABDBEABDECCEEEDCEDAEBAB…</td><td>&quot;DBAADEADCDCABABCDDEBAEABAECABA…</td><td>&quot;BBBDAABAEACCEEEDEACBCACAACAACA…</td><td>&quot;EBDADDAEBEACBEDCECCBEABCADEBCC…</td><td>1</td><td>140.0</td><td>200.0</td><td>160.0</td><td>180.0</td><td>200.0</td><td>880.0</td><td>&quot;D&quot;</td><td>&quot;D&quot;</td><td>&quot;B&quot;</td><td>null</td><td>5</td><td>&quot;C&quot;</td><td>&quot;A&quot;</td><td>&quot;B&quot;</td><td>&quot;B&quot;</td><td>&quot;A&quot;</td><td>&quot;A&quot;</td><td>&quot;B&quot;</td><td>&quot;A&quot;</td><td>&quot;A&quot;</td><td>&quot;A&quot;</td><td>&quot;A&quot;</td><td>&quot;A&quot;</td><td>&quot;A&quot;</td><td>&quot;B&quot;</td><td>&quot;A&quot;</td><td>&quot;A&quot;</td><td>&quot;D&quot;</td><td>&quot;A&quot;</td><td>&quot;A&quot;</td><td>&quot;B&quot;</td></tr><tr><td>210059980948</td><td>2023</td><td>3</td><td>&quot;F&quot;</td><td>1</td><td>3</td><td>1</td><td>2</td><td>0</td><td>2</td><td>1</td><td>0</td><td>2311306</td><td>null</td><td>23</td><td>&quot;CE&quot;</td><td>2</td><td>1</td><td>1</td><td>2311306</td><td>null</td><td>&quot;23&quot;</td><td>&quot;CE&quot;</td><td>1</td><td>1</td><td>1</td><td>1</td><td>1222</td><td>1191</td><td>1201</td><td>1212</td><td>402.5</td><td>379.2</td><td>446.9</td><td>338.3</td><td>&quot;AECCEAACDEABEEECDBAEEAAADDEABC…</td><td>&quot;CADEBCEDDEBCBAEBADDCECACADBDEB…</td><td>&hellip;</td><td>0</td><td>&quot;CAAADCCCCDDDABDCACDBEEEDCEDAEE…</td><td>&quot;CDAEECABAACEAADECBDAABCDCABADC…</td><td>&quot;BBDABAAEBADACEEDCCDBADBDEDCCEB…</td><td>&quot;DCECACCBDECBEEABEABDDAADDABBBC…</td><td>1</td><td>120.0</td><td>120.0</td><td>120.0</td><td>120.0</td><td>80.0</td><td>560.0</td><td>&quot;B&quot;</td><td>&quot;B&quot;</td><td>&quot;A&quot;</td><td>null</td><td>4</td><td>&quot;B&quot;</td><td>&quot;A&quot;</td><td>&quot;B&quot;</td><td>&quot;A&quot;</td><td>&quot;A&quot;</td><td>&quot;A&quot;</td><td>&quot;B&quot;</td><td>&quot;A&quot;</td><td>&quot;A&quot;</td><td>&quot;A&quot;</td><td>&quot;A&quot;</td><td>&quot;A&quot;</td><td>&quot;A&quot;</td><td>&quot;B&quot;</td><td>&quot;A&quot;</td><td>&quot;A&quot;</td><td>&quot;B&quot;</td><td>&quot;A&quot;</td><td>&quot;A&quot;</td><td>&quot;A&quot;</td></tr></tbody></table></div>"
      ],
      "text/plain": [
       "shape: (5, 76)\n",
       "┌──────────────┬────────┬─────────────────┬─────────┬───┬──────┬──────┬──────┬──────┐\n",
       "│ NU_INSCRICAO ┆ NU_ANO ┆ TP_FAIXA_ETARIA ┆ TP_SEXO ┆ … ┆ Q022 ┆ Q023 ┆ Q024 ┆ Q025 │\n",
       "│ ---          ┆ ---    ┆ ---             ┆ ---     ┆   ┆ ---  ┆ ---  ┆ ---  ┆ ---  │\n",
       "│ i64          ┆ i16    ┆ i16             ┆ str     ┆   ┆ str  ┆ str  ┆ str  ┆ str  │\n",
       "╞══════════════╪════════╪═════════════════╪═════════╪═══╪══════╪══════╪══════╪══════╡\n",
       "│ 210059085136 ┆ 2023   ┆ 14              ┆ M       ┆ … ┆ B    ┆ A    ┆ A    ┆ B    │\n",
       "│ 210059527735 ┆ 2023   ┆ 12              ┆ M       ┆ … ┆ C    ┆ A    ┆ D    ┆ B    │\n",
       "│ 210061103945 ┆ 2023   ┆ 6               ┆ F       ┆ … ┆ A    ┆ A    ┆ A    ┆ B    │\n",
       "│ 210060214087 ┆ 2023   ┆ 2               ┆ F       ┆ … ┆ D    ┆ A    ┆ A    ┆ B    │\n",
       "│ 210059980948 ┆ 2023   ┆ 3               ┆ F       ┆ … ┆ B    ┆ A    ┆ A    ┆ A    │\n",
       "└──────────────┴────────┴─────────────────┴─────────┴───┴──────┴──────┴──────┴──────┘"
      ]
     },
     "execution_count": 28,
     "metadata": {},
     "output_type": "execute_result"
    }
   ],
   "source": [
    "micro_enem.head()"
   ]
  },
  {
   "cell_type": "code",
   "execution_count": 29,
   "metadata": {},
   "outputs": [
    {
     "data": {
      "text/html": [
       "<div><style>\n",
       ".dataframe > thead > tr,\n",
       ".dataframe > tbody > tr {\n",
       "  text-align: right;\n",
       "  white-space: pre-wrap;\n",
       "}\n",
       "</style>\n",
       "<small>shape: (9, 77)</small><table border=\"1\" class=\"dataframe\"><thead><tr><th>statistic</th><th>NU_INSCRICAO</th><th>NU_ANO</th><th>TP_FAIXA_ETARIA</th><th>TP_SEXO</th><th>TP_ESTADO_CIVIL</th><th>TP_COR_RACA</th><th>TP_NACIONALIDADE</th><th>TP_ST_CONCLUSAO</th><th>TP_ANO_CONCLUIU</th><th>TP_ESCOLA</th><th>TP_ENSINO</th><th>IN_TREINEIRO</th><th>CO_MUNICIPIO_ESC</th><th>NO_MUNICIPIO_ESC</th><th>CO_UF_ESC</th><th>SG_UF_ESC</th><th>TP_DEPENDENCIA_ADM_ESC</th><th>TP_LOCALIZACAO_ESC</th><th>TP_SIT_FUNC_ESC</th><th>CO_MUNICIPIO_PROVA</th><th>NO_MUNICIPIO_PROVA</th><th>CO_UF_PROVA</th><th>SG_UF_PROVA</th><th>TP_PRESENCA_CN</th><th>TP_PRESENCA_CH</th><th>TP_PRESENCA_LC</th><th>TP_PRESENCA_MT</th><th>CO_PROVA_CN</th><th>CO_PROVA_CH</th><th>CO_PROVA_LC</th><th>CO_PROVA_MT</th><th>NU_NOTA_CN</th><th>NU_NOTA_CH</th><th>NU_NOTA_LC</th><th>NU_NOTA_MT</th><th>TX_RESPOSTAS_CN</th><th>&hellip;</th><th>TP_LINGUA</th><th>TX_GABARITO_CN</th><th>TX_GABARITO_CH</th><th>TX_GABARITO_LC</th><th>TX_GABARITO_MT</th><th>TP_STATUS_REDACAO</th><th>NU_NOTA_COMP1</th><th>NU_NOTA_COMP2</th><th>NU_NOTA_COMP3</th><th>NU_NOTA_COMP4</th><th>NU_NOTA_COMP5</th><th>NU_NOTA_REDACAO</th><th>Q001</th><th>Q002</th><th>Q003</th><th>Q004</th><th>Q005</th><th>Q006</th><th>Q007</th><th>Q008</th><th>Q009</th><th>Q010</th><th>Q011</th><th>Q012</th><th>Q013</th><th>Q014</th><th>Q015</th><th>Q016</th><th>Q017</th><th>Q018</th><th>Q019</th><th>Q020</th><th>Q021</th><th>Q022</th><th>Q023</th><th>Q024</th><th>Q025</th></tr><tr><td>str</td><td>f64</td><td>f64</td><td>f64</td><td>str</td><td>f64</td><td>f64</td><td>f64</td><td>f64</td><td>f64</td><td>f64</td><td>f64</td><td>f64</td><td>f64</td><td>str</td><td>f64</td><td>str</td><td>f64</td><td>f64</td><td>f64</td><td>f64</td><td>str</td><td>str</td><td>str</td><td>f64</td><td>f64</td><td>f64</td><td>f64</td><td>f64</td><td>f64</td><td>f64</td><td>f64</td><td>f64</td><td>f64</td><td>f64</td><td>f64</td><td>str</td><td>&hellip;</td><td>f64</td><td>str</td><td>str</td><td>str</td><td>str</td><td>f64</td><td>f64</td><td>f64</td><td>f64</td><td>f64</td><td>f64</td><td>f64</td><td>str</td><td>str</td><td>str</td><td>f64</td><td>f64</td><td>str</td><td>str</td><td>str</td><td>str</td><td>str</td><td>str</td><td>str</td><td>str</td><td>str</td><td>str</td><td>str</td><td>str</td><td>str</td><td>str</td><td>str</td><td>str</td><td>str</td><td>str</td><td>str</td><td>str</td></tr></thead><tbody><tr><td>&quot;count&quot;</td><td>3.933955e6</td><td>3.933955e6</td><td>3.933955e6</td><td>&quot;3933955&quot;</td><td>3.933955e6</td><td>3.933955e6</td><td>3.933955e6</td><td>3.933955e6</td><td>3.933955e6</td><td>3.933955e6</td><td>1.339081e6</td><td>3.933955e6</td><td>958506.0</td><td>&quot;564552&quot;</td><td>958506.0</td><td>&quot;958506&quot;</td><td>958506.0</td><td>958506.0</td><td>958506.0</td><td>3.933955e6</td><td>&quot;2343157&quot;</td><td>&quot;3933955&quot;</td><td>&quot;3933955&quot;</td><td>3.933955e6</td><td>3.933955e6</td><td>3.933955e6</td><td>3.933955e6</td><td>2.692427e6</td><td>2.822643e6</td><td>2.822643e6</td><td>2.692427e6</td><td>2.692427e6</td><td>2.822643e6</td><td>2.822643e6</td><td>2.692427e6</td><td>&quot;2692427&quot;</td><td>&hellip;</td><td>3.933955e6</td><td>&quot;2692427&quot;</td><td>&quot;2822643&quot;</td><td>&quot;2822643&quot;</td><td>&quot;2692427&quot;</td><td>2.822643e6</td><td>2.822643e6</td><td>2.822643e6</td><td>2.822643e6</td><td>2.822643e6</td><td>2.822643e6</td><td>2.822643e6</td><td>&quot;3933955&quot;</td><td>&quot;3933955&quot;</td><td>&quot;3933955&quot;</td><td>0.0</td><td>3.933955e6</td><td>&quot;3933955&quot;</td><td>&quot;3933955&quot;</td><td>&quot;3933955&quot;</td><td>&quot;3933955&quot;</td><td>&quot;3933955&quot;</td><td>&quot;3933955&quot;</td><td>&quot;3933955&quot;</td><td>&quot;3933955&quot;</td><td>&quot;3933955&quot;</td><td>&quot;3933955&quot;</td><td>&quot;3933955&quot;</td><td>&quot;3933955&quot;</td><td>&quot;3933955&quot;</td><td>&quot;3933955&quot;</td><td>&quot;3933955&quot;</td><td>&quot;3933955&quot;</td><td>&quot;3933955&quot;</td><td>&quot;3933955&quot;</td><td>&quot;3933955&quot;</td><td>&quot;3933955&quot;</td></tr><tr><td>&quot;null_count&quot;</td><td>0.0</td><td>0.0</td><td>0.0</td><td>&quot;0&quot;</td><td>0.0</td><td>0.0</td><td>0.0</td><td>0.0</td><td>0.0</td><td>0.0</td><td>2.594874e6</td><td>0.0</td><td>2.975449e6</td><td>&quot;3369403&quot;</td><td>2.975449e6</td><td>&quot;2975449&quot;</td><td>2.975449e6</td><td>2.975449e6</td><td>2.975449e6</td><td>0.0</td><td>&quot;1590798&quot;</td><td>&quot;0&quot;</td><td>&quot;0&quot;</td><td>0.0</td><td>0.0</td><td>0.0</td><td>0.0</td><td>1.241528e6</td><td>1.111312e6</td><td>1.111312e6</td><td>1.241528e6</td><td>1.241528e6</td><td>1.111312e6</td><td>1.111312e6</td><td>1.241528e6</td><td>&quot;1241528&quot;</td><td>&hellip;</td><td>0.0</td><td>&quot;1241528&quot;</td><td>&quot;1111312&quot;</td><td>&quot;1111312&quot;</td><td>&quot;1241528&quot;</td><td>1.111312e6</td><td>1.111312e6</td><td>1.111312e6</td><td>1.111312e6</td><td>1.111312e6</td><td>1.111312e6</td><td>1.111312e6</td><td>&quot;0&quot;</td><td>&quot;0&quot;</td><td>&quot;0&quot;</td><td>3.933955e6</td><td>0.0</td><td>&quot;0&quot;</td><td>&quot;0&quot;</td><td>&quot;0&quot;</td><td>&quot;0&quot;</td><td>&quot;0&quot;</td><td>&quot;0&quot;</td><td>&quot;0&quot;</td><td>&quot;0&quot;</td><td>&quot;0&quot;</td><td>&quot;0&quot;</td><td>&quot;0&quot;</td><td>&quot;0&quot;</td><td>&quot;0&quot;</td><td>&quot;0&quot;</td><td>&quot;0&quot;</td><td>&quot;0&quot;</td><td>&quot;0&quot;</td><td>&quot;0&quot;</td><td>&quot;0&quot;</td><td>&quot;0&quot;</td></tr><tr><td>&quot;mean&quot;</td><td>2.1006e11</td><td>2023.0</td><td>5.096262</td><td>null</td><td>1.043938</td><td>2.0582</td><td>1.028277</td><td>1.684697</td><td>2.445029</td><td>1.41581</td><td>1.005142</td><td>0.157619</td><td>3.1912e6</td><td>null</td><td>31.764971</td><td>null</td><td>2.437952</td><td>1.037193</td><td>1.016525</td><td>3.0819e6</td><td>null</td><td>null</td><td>null</td><td>0.685532</td><td>0.719845</td><td>0.719845</td><td>0.685532</td><td>1222.664775</td><td>1192.657075</td><td>1202.655082</td><td>1212.664779</td><td>495.751547</td><td>523.354206</td><td>518.146637</td><td>533.8357</td><td>null</td><td>&hellip;</td><td>0.457009</td><td>null</td><td>null</td><td>null</td><td>null</td><td>1.152402</td><td>121.545183</td><td>139.295228</td><td>118.509046</td><td>129.797016</td><td>108.651997</td><td>617.798482</td><td>null</td><td>null</td><td>null</td><td>null</td><td>3.688928</td><td>null</td><td>null</td><td>null</td><td>null</td><td>null</td><td>null</td><td>null</td><td>null</td><td>null</td><td>null</td><td>null</td><td>null</td><td>null</td><td>null</td><td>null</td><td>null</td><td>null</td><td>null</td><td>null</td><td>null</td></tr><tr><td>&quot;std&quot;</td><td>1.1545e6</td><td>0.0</td><td>3.871855</td><td>null</td><td>0.412003</td><td>1.003314</td><td>0.212776</td><td>0.746792</td><td>4.450337</td><td>0.601823</td><td>0.071525</td><td>0.364384</td><td>1.0203e6</td><td>null</td><td>10.176427</td><td>null</td><td>0.909037</td><td>0.189235</td><td>0.20397</td><td>999346.029034</td><td>null</td><td>null</td><td>null</td><td>0.465513</td><td>0.45167</td><td>0.45167</td><td>0.465513</td><td>3.691471</td><td>3.591161</td><td>3.590874</td><td>3.691568</td><td>87.928725</td><td>88.571061</td><td>75.452427</td><td>131.647774</td><td>null</td><td>&hellip;</td><td>0.498148</td><td>null</td><td>null</td><td>null</td><td>null</td><td>0.800145</td><td>35.654437</td><td>51.615625</td><td>43.408285</td><td>43.773256</td><td>61.602483</td><td>214.621071</td><td>null</td><td>null</td><td>null</td><td>null</td><td>1.409879</td><td>null</td><td>null</td><td>null</td><td>null</td><td>null</td><td>null</td><td>null</td><td>null</td><td>null</td><td>null</td><td>null</td><td>null</td><td>null</td><td>null</td><td>null</td><td>null</td><td>null</td><td>null</td><td>null</td><td>null</td></tr><tr><td>&quot;min&quot;</td><td>2.1006e11</td><td>2023.0</td><td>1.0</td><td>&quot;F&quot;</td><td>0.0</td><td>0.0</td><td>0.0</td><td>1.0</td><td>0.0</td><td>1.0</td><td>1.0</td><td>0.0</td><td>1.100015e6</td><td>&quot;Abadia dos Dourados&quot;</td><td>11.0</td><td>&quot;AC&quot;</td><td>1.0</td><td>1.0</td><td>1.0</td><td>1.100015e6</td><td>&quot;Abaetetuba&quot;</td><td>&quot;11&quot;</td><td>&quot;AC&quot;</td><td>0.0</td><td>0.0</td><td>0.0</td><td>0.0</td><td>1221.0</td><td>1191.0</td><td>1201.0</td><td>1211.0</td><td>0.0</td><td>0.0</td><td>0.0</td><td>0.0</td><td>&quot;******************************…</td><td>&hellip;</td><td>0.0</td><td>&quot;ACCDAEACBACCCEEADCDEDDCCBEBEBB…</td><td>&quot;ABCDCBDACDAEACEECABADBEABADEBA…</td><td>&quot;AEDECECDEECDDEEBAEBECDEDCBDBBD…</td><td>&quot;BADDDEADDACBEDCECCCEBDDBEDBAAC…</td><td>1.0</td><td>0.0</td><td>0.0</td><td>0.0</td><td>0.0</td><td>0.0</td><td>0.0</td><td>&quot;A&quot;</td><td>&quot;A&quot;</td><td>&quot;A&quot;</td><td>null</td><td>1.0</td><td>&quot;A&quot;</td><td>&quot;A&quot;</td><td>&quot;A&quot;</td><td>&quot;A&quot;</td><td>&quot;A&quot;</td><td>&quot;A&quot;</td><td>&quot;A&quot;</td><td>&quot;A&quot;</td><td>&quot;A&quot;</td><td>&quot;A&quot;</td><td>&quot;A&quot;</td><td>&quot;A&quot;</td><td>&quot;A&quot;</td><td>&quot;A&quot;</td><td>&quot;A&quot;</td><td>&quot;A&quot;</td><td>&quot;A&quot;</td><td>&quot;A&quot;</td><td>&quot;A&quot;</td><td>&quot;A&quot;</td></tr><tr><td>&quot;25%&quot;</td><td>2.1006e11</td><td>2023.0</td><td>2.0</td><td>null</td><td>1.0</td><td>1.0</td><td>1.0</td><td>1.0</td><td>0.0</td><td>1.0</td><td>1.0</td><td>0.0</td><td>2.401008e6</td><td>null</td><td>24.0</td><td>null</td><td>2.0</td><td>1.0</td><td>1.0</td><td>2.403251e6</td><td>null</td><td>null</td><td>null</td><td>0.0</td><td>0.0</td><td>0.0</td><td>0.0</td><td>1222.0</td><td>1192.0</td><td>1202.0</td><td>1212.0</td><td>440.5</td><td>467.8</td><td>471.4</td><td>431.2</td><td>null</td><td>&hellip;</td><td>0.0</td><td>null</td><td>null</td><td>null</td><td>null</td><td>1.0</td><td>120.0</td><td>120.0</td><td>100.0</td><td>120.0</td><td>60.0</td><td>500.0</td><td>null</td><td>null</td><td>null</td><td>null</td><td>3.0</td><td>null</td><td>null</td><td>null</td><td>null</td><td>null</td><td>null</td><td>null</td><td>null</td><td>null</td><td>null</td><td>null</td><td>null</td><td>null</td><td>null</td><td>null</td><td>null</td><td>null</td><td>null</td><td>null</td><td>null</td></tr><tr><td>&quot;50%&quot;</td><td>2.1006e11</td><td>2023.0</td><td>3.0</td><td>null</td><td>1.0</td><td>2.0</td><td>1.0</td><td>2.0</td><td>0.0</td><td>1.0</td><td>1.0</td><td>0.0</td><td>3.205002e6</td><td>null</td><td>32.0</td><td>null</td><td>2.0</td><td>1.0</td><td>1.0</td><td>3.107307e6</td><td>null</td><td>null</td><td>null</td><td>1.0</td><td>1.0</td><td>1.0</td><td>1.0</td><td>1223.0</td><td>1193.0</td><td>1203.0</td><td>1213.0</td><td>493.9</td><td>530.4</td><td>523.1</td><td>523.6</td><td>null</td><td>&hellip;</td><td>0.0</td><td>null</td><td>null</td><td>null</td><td>null</td><td>1.0</td><td>120.0</td><td>140.0</td><td>120.0</td><td>120.0</td><td>120.0</td><td>620.0</td><td>null</td><td>null</td><td>null</td><td>null</td><td>4.0</td><td>null</td><td>null</td><td>null</td><td>null</td><td>null</td><td>null</td><td>null</td><td>null</td><td>null</td><td>null</td><td>null</td><td>null</td><td>null</td><td>null</td><td>null</td><td>null</td><td>null</td><td>null</td><td>null</td><td>null</td></tr><tr><td>&quot;75%&quot;</td><td>2.1006e11</td><td>2023.0</td><td>7.0</td><td>null</td><td>1.0</td><td>3.0</td><td>1.0</td><td>2.0</td><td>3.0</td><td>2.0</td><td>1.0</td><td>0.0</td><td>3.550308e6</td><td>null</td><td>35.0</td><td>null</td><td>2.0</td><td>1.0</td><td>1.0</td><td>3.548906e6</td><td>null</td><td>null</td><td>null</td><td>1.0</td><td>1.0</td><td>1.0</td><td>1.0</td><td>1224.0</td><td>1194.0</td><td>1204.0</td><td>1214.0</td><td>551.2</td><td>584.9</td><td>570.3</td><td>630.1</td><td>null</td><td>&hellip;</td><td>1.0</td><td>null</td><td>null</td><td>null</td><td>null</td><td>1.0</td><td>140.0</td><td>180.0</td><td>140.0</td><td>160.0</td><td>160.0</td><td>780.0</td><td>null</td><td>null</td><td>null</td><td>null</td><td>4.0</td><td>null</td><td>null</td><td>null</td><td>null</td><td>null</td><td>null</td><td>null</td><td>null</td><td>null</td><td>null</td><td>null</td><td>null</td><td>null</td><td>null</td><td>null</td><td>null</td><td>null</td><td>null</td><td>null</td><td>null</td></tr><tr><td>&quot;max&quot;</td><td>2.1006e11</td><td>2023.0</td><td>20.0</td><td>&quot;M&quot;</td><td>4.0</td><td>5.0</td><td>4.0</td><td>4.0</td><td>17.0</td><td>3.0</td><td>2.0</td><td>1.0</td><td>5.300108e6</td><td>&quot;Zacarias&quot;</td><td>53.0</td><td>&quot;TO&quot;</td><td>4.0</td><td>2.0</td><td>4.0</td><td>5.300108e6</td><td>&quot;Xique-Xique&quot;</td><td>&quot;53&quot;</td><td>&quot;TO&quot;</td><td>2.0</td><td>2.0</td><td>2.0</td><td>2.0</td><td>1304.0</td><td>1274.0</td><td>1284.0</td><td>1294.0</td><td>868.4</td><td>823.0</td><td>820.8</td><td>958.6</td><td>&quot;EEEEEEEEEEEEEEEEEEEEEEEEEEEEEE…</td><td>&hellip;</td><td>1.0</td><td>&quot;DBEABDABDCACDBECDDDBCAAABBACCC…</td><td>&quot;DEBCBBDABCECCBACEACABAADCDABAD…</td><td>&quot;ECAEDDEEECAADEEDDCDACBABAACBAD…</td><td>&quot;EBDEEBDADDABCCBCCABBADDBDDAEAE…</td><td>9.0</td><td>200.0</td><td>200.0</td><td>200.0</td><td>200.0</td><td>200.0</td><td>1000.0</td><td>&quot;H&quot;</td><td>&quot;H&quot;</td><td>&quot;F&quot;</td><td>null</td><td>20.0</td><td>&quot;Q&quot;</td><td>&quot;D&quot;</td><td>&quot;E&quot;</td><td>&quot;E&quot;</td><td>&quot;E&quot;</td><td>&quot;E&quot;</td><td>&quot;E&quot;</td><td>&quot;E&quot;</td><td>&quot;E&quot;</td><td>&quot;E&quot;</td><td>&quot;E&quot;</td><td>&quot;E&quot;</td><td>&quot;B&quot;</td><td>&quot;E&quot;</td><td>&quot;B&quot;</td><td>&quot;B&quot;</td><td>&quot;E&quot;</td><td>&quot;B&quot;</td><td>&quot;E&quot;</td><td>&quot;B&quot;</td></tr></tbody></table></div>"
      ],
      "text/plain": [
       "shape: (9, 77)\n",
       "┌────────────┬──────────────┬────────────┬─────────────┬───┬─────────┬─────────┬─────────┬─────────┐\n",
       "│ statistic  ┆ NU_INSCRICAO ┆ NU_ANO     ┆ TP_FAIXA_ET ┆ … ┆ Q022    ┆ Q023    ┆ Q024    ┆ Q025    │\n",
       "│ ---        ┆ ---          ┆ ---        ┆ ARIA        ┆   ┆ ---     ┆ ---     ┆ ---     ┆ ---     │\n",
       "│ str        ┆ f64          ┆ f64        ┆ ---         ┆   ┆ str     ┆ str     ┆ str     ┆ str     │\n",
       "│            ┆              ┆            ┆ f64         ┆   ┆         ┆         ┆         ┆         │\n",
       "╞════════════╪══════════════╪════════════╪═════════════╪═══╪═════════╪═════════╪═════════╪═════════╡\n",
       "│ count      ┆ 3.933955e6   ┆ 3.933955e6 ┆ 3.933955e6  ┆ … ┆ 3933955 ┆ 3933955 ┆ 3933955 ┆ 3933955 │\n",
       "│ null_count ┆ 0.0          ┆ 0.0        ┆ 0.0         ┆ … ┆ 0       ┆ 0       ┆ 0       ┆ 0       │\n",
       "│ mean       ┆ 2.1006e11    ┆ 2023.0     ┆ 5.096262    ┆ … ┆ null    ┆ null    ┆ null    ┆ null    │\n",
       "│ std        ┆ 1.1545e6     ┆ 0.0        ┆ 3.871855    ┆ … ┆ null    ┆ null    ┆ null    ┆ null    │\n",
       "│ min        ┆ 2.1006e11    ┆ 2023.0     ┆ 1.0         ┆ … ┆ A       ┆ A       ┆ A       ┆ A       │\n",
       "│ 25%        ┆ 2.1006e11    ┆ 2023.0     ┆ 2.0         ┆ … ┆ null    ┆ null    ┆ null    ┆ null    │\n",
       "│ 50%        ┆ 2.1006e11    ┆ 2023.0     ┆ 3.0         ┆ … ┆ null    ┆ null    ┆ null    ┆ null    │\n",
       "│ 75%        ┆ 2.1006e11    ┆ 2023.0     ┆ 7.0         ┆ … ┆ null    ┆ null    ┆ null    ┆ null    │\n",
       "│ max        ┆ 2.1006e11    ┆ 2023.0     ┆ 20.0        ┆ … ┆ E       ┆ B       ┆ E       ┆ B       │\n",
       "└────────────┴──────────────┴────────────┴─────────────┴───┴─────────┴─────────┴─────────┴─────────┘"
      ]
     },
     "execution_count": 29,
     "metadata": {},
     "output_type": "execute_result"
    }
   ],
   "source": [
    "micro_enem.describe()"
   ]
  },
  {
   "cell_type": "code",
   "execution_count": 30,
   "metadata": {},
   "outputs": [
    {
     "data": {
      "text/plain": [
       "(3933955, 76)"
      ]
     },
     "execution_count": 30,
     "metadata": {},
     "output_type": "execute_result"
    }
   ],
   "source": [
    "micro_enem.shape"
   ]
  },
  {
   "cell_type": "code",
   "execution_count": null,
   "metadata": {},
   "outputs": [],
   "source": []
  }
 ],
 "metadata": {
  "kernelspec": {
   "display_name": "usr",
   "language": "python",
   "name": "python3"
  },
  "language_info": {
   "codemirror_mode": {
    "name": "ipython",
    "version": 3
   },
   "file_extension": ".py",
   "mimetype": "text/x-python",
   "name": "python",
   "nbconvert_exporter": "python",
   "pygments_lexer": "ipython3",
   "version": "3.10.12"
  }
 },
 "nbformat": 4,
 "nbformat_minor": 2
}
